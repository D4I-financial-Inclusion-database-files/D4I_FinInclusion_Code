{
 "cells": [
  {
   "cell_type": "markdown",
   "metadata": {},
   "source": [
    "## Playing with APIs"
   ]
  },
  {
   "cell_type": "code",
   "execution_count": 42,
   "metadata": {},
   "outputs": [],
   "source": [
    "import requests\n",
    "import mysql.connector\n",
    "import wbgapi as wb\n",
    "#import json\n",
    "import pandas as pd"
   ]
  },
  {
   "cell_type": "code",
   "execution_count": 2,
   "metadata": {},
   "outputs": [
    {
     "name": "stdout",
     "output_type": "stream",
     "text": [
      "Connected to MySQL Server version  8.0.25\n",
      "You're connected to database:  ('trial',)\n"
     ]
    }
   ],
   "source": [
    "import mysql.connector\n",
    "from mysql.connector import Error\n",
    "\n",
    "try:\n",
    "    connection = mysql.connector.connect(host='localhost',\n",
    "                                         database='trial',\n",
    "                                         user='rishi',\n",
    "                                         password='verygood98')\n",
    "    if connection.is_connected():\n",
    "        db_Info = connection.get_server_info()\n",
    "        print(\"Connected to MySQL Server version \", db_Info)\n",
    "        cursor = connection.cursor()\n",
    "        cursor.execute(\"select database();\")\n",
    "        record = cursor.fetchone()\n",
    "        print(\"You're connected to database: \", record)\n",
    "\n",
    "except Error as e:\n",
    "    print(\"Error while connecting to MySQL\", e)"
   ]
  },
  {
   "cell_type": "code",
   "execution_count": 3,
   "metadata": {},
   "outputs": [
    {
     "ename": "SyntaxError",
     "evalue": "invalid syntax (<ipython-input-3-00e81791067e>, line 1)",
     "output_type": "error",
     "traceback": [
      "\u001b[0;36m  File \u001b[0;32m\"<ipython-input-3-00e81791067e>\"\u001b[0;36m, line \u001b[0;32m1\u001b[0m\n\u001b[0;31m    def fetch_WB_data()\u001b[0m\n\u001b[0m                       ^\u001b[0m\n\u001b[0;31mSyntaxError\u001b[0m\u001b[0;31m:\u001b[0m invalid syntax\n"
     ]
    }
   ],
   "source": [
    "def fetch_WB_data()\n",
    "    "
   ]
  },
  {
   "cell_type": "code",
   "execution_count": null,
   "metadata": {},
   "outputs": [],
   "source": [
    "if connection.is_connected():\n",
    "        cursor.close()\n",
    "        connection.close()\n",
    "        print(\"MySQL connection is closed\")"
   ]
  },
  {
   "cell_type": "code",
   "execution_count": null,
   "metadata": {},
   "outputs": [],
   "source": [
    "help(wb)  \n"
   ]
  },
  {
   "cell_type": "code",
   "execution_count": 7,
   "metadata": {},
   "outputs": [
    {
     "name": "stdout",
     "output_type": "stream",
     "text": [
      "Help on module wbgapi.series in wbgapi:\n",
      "\n",
      "NAME\n",
      "    wbgapi.series - Access information about series in a database\n",
      "\n",
      "FUNCTIONS\n",
      "    Series(id='all', q=None, topic=None, db=None, name='SeriesName')\n",
      "        Return a pandas Series by calling list\n",
      "    \n",
      "    get(id, db=None)\n",
      "        Retrieve a specific series object\n",
      "        \n",
      "        Arguments:\n",
      "            id:     the series identifier\n",
      "        \n",
      "            db:     database; pass None to access the global database\n",
      "        \n",
      "        Returns:\n",
      "            a series object\n",
      "        \n",
      "        Example:\n",
      "            print(wbgapi.series.get('SP.POP.TOTL')['value'])\n",
      "    \n",
      "    info(id='all', q=None, topic=None, db=None)\n",
      "        Print a user report of series. This can be time consuming\n",
      "        for large databases like the WDI if 'all' series are requested.\n",
      "        \n",
      "        Arguments:\n",
      "            id:         a series identifier or list-like of identifiers\n",
      "        \n",
      "            q:          search string (on series name))\n",
      "        \n",
      "            topic:      topic ID or list-like\n",
      "        \n",
      "            db:         database; pass None to access the global database\n",
      "        \n",
      "        Returns:\n",
      "            None\n",
      "    \n",
      "    list(id='all', q=None, topic=None, db=None)\n",
      "        Return a list of series elements in the current database\n",
      "        \n",
      "        Arguments:\n",
      "            id:     a series identifier (i.e., CETS code) or list-like\n",
      "        \n",
      "            q:      search string (on series name)\n",
      "        \n",
      "            topic:  topic ID or list-like\n",
      "        \n",
      "            db:     database; pass None to access the global database\n",
      "        \n",
      "        Returns:\n",
      "            a generator object\n",
      "        \n",
      "        Example:\n",
      "            for elem in wbgapi.series.list():\n",
      "                print(elem['id'], elem['value'])\n",
      "\n",
      "FILE\n",
      "    /Users/rishigummakonda/opt/anaconda3/lib/python3.8/site-packages/wbgapi/series.py\n",
      "\n",
      "\n"
     ]
    }
   ],
   "source": [
    "help(wb.series) "
   ]
  },
  {
   "cell_type": "code",
   "execution_count": 12,
   "metadata": {},
   "outputs": [
    {
     "data": {
      "text/html": [
       "<div class=\"wbgapi\"><h4>Series</h4><table>\n",
       "<thead>\n",
       "<tr><th>ID            </th><th>Name                                               </th><th>Field         </th><th>Value                                                                                            </th></tr>\n",
       "</thead>\n",
       "<tbody>\n",
       "<tr><td>SH.STA.DIAB.ZS</td><td>Diabetes prevalence (% of population ages 20 to 79)</td><td>IndicatorName </td><td>Diabetes prevalence (% of population ages 20 to 79)                                              </td></tr>\n",
       "<tr><td>SH.STA.DIAB.ZS</td><td>Diabetes prevalence (% of population ages 20 to 79)</td><td>Longdefinition</td><td>...Diabetes prevalence refers to the percentage of people ages 20-79 who have type 1 or type 2...</td></tr>\n",
       "</tbody>\n",
       "</table></div>"
      ],
      "text/plain": [
       "========\n",
       "Series: SH.STA.DIAB.ZS, Diabetes prevalence (% of population ages 20 to 79)\n",
       "\n",
       "IndicatorName: Diabetes prevalence (% of population ages 20 to 79)\n",
       "--------\n",
       "Longdefinition: ...Diabetes prevalence refers to the percentage of people ages 20-79 who have type 1 or type 2..."
      ]
     },
     "execution_count": 12,
     "metadata": {},
     "output_type": "execute_result"
    }
   ],
   "source": [
    "wb.search('diabetes prevalence')"
   ]
  },
  {
   "cell_type": "code",
   "execution_count": 18,
   "metadata": {},
   "outputs": [
    {
     "data": {
      "text/html": [
       "<div>\n",
       "<style scoped>\n",
       "    .dataframe tbody tr th:only-of-type {\n",
       "        vertical-align: middle;\n",
       "    }\n",
       "\n",
       "    .dataframe tbody tr th {\n",
       "        vertical-align: top;\n",
       "    }\n",
       "\n",
       "    .dataframe thead th {\n",
       "        text-align: right;\n",
       "    }\n",
       "</style>\n",
       "<table border=\"1\" class=\"dataframe\">\n",
       "  <thead>\n",
       "    <tr style=\"text-align: right;\">\n",
       "      <th></th>\n",
       "      <th>YR2016</th>\n",
       "      <th>YR2017</th>\n",
       "      <th>YR2018</th>\n",
       "      <th>YR2019</th>\n",
       "      <th>YR2020</th>\n",
       "    </tr>\n",
       "    <tr>\n",
       "      <th>series</th>\n",
       "      <th></th>\n",
       "      <th></th>\n",
       "      <th></th>\n",
       "      <th></th>\n",
       "      <th></th>\n",
       "    </tr>\n",
       "  </thead>\n",
       "  <tbody>\n",
       "    <tr>\n",
       "      <th>NY.GDP.PCAP.CD</th>\n",
       "      <td>4.231560e+04</td>\n",
       "      <td>4.512936e+04</td>\n",
       "      <td>4.645474e+04</td>\n",
       "      <td>4.632667e+04</td>\n",
       "      <td>4.324162e+04</td>\n",
       "    </tr>\n",
       "    <tr>\n",
       "      <th>SP.POP.TOTL</th>\n",
       "      <td>3.610949e+07</td>\n",
       "      <td>3.654530e+07</td>\n",
       "      <td>3.706518e+07</td>\n",
       "      <td>3.759338e+07</td>\n",
       "      <td>3.800524e+07</td>\n",
       "    </tr>\n",
       "  </tbody>\n",
       "</table>\n",
       "</div>"
      ],
      "text/plain": [
       "                      YR2016        YR2017        YR2018        YR2019  \\\n",
       "series                                                                   \n",
       "NY.GDP.PCAP.CD  4.231560e+04  4.512936e+04  4.645474e+04  4.632667e+04   \n",
       "SP.POP.TOTL     3.610949e+07  3.654530e+07  3.706518e+07  3.759338e+07   \n",
       "\n",
       "                      YR2020  \n",
       "series                        \n",
       "NY.GDP.PCAP.CD  4.324162e+04  \n",
       "SP.POP.TOTL     3.800524e+07  "
      ]
     },
     "execution_count": 18,
     "metadata": {},
     "output_type": "execute_result"
    }
   ],
   "source": [
    "wb.data.DataFrame(['NY.GDP.PCAP.CD', 'SP.POP.TOTL'], 'CAN', mrv=5) # most recent 5 years \n"
   ]
  },
  {
   "cell_type": "code",
   "execution_count": 19,
   "metadata": {},
   "outputs": [
    {
     "name": "stdout",
     "output_type": "stream",
     "text": [
      "Help on function DataFrame in module wbgapi.data:\n",
      "\n",
      "DataFrame(series, economy='all', time='all', index=None, columns=None, mrv=None, mrnev=None, skipBlanks=False, labels=False, skipAggs=False, numericTimeKeys=False, timeColumns=False, params={}, db=None, **dimensions)\n",
      "    Retrieve a 2-dimensional pandas dataframe. \n",
      "    \n",
      "    Arguments:\n",
      "        series:             a series identifier or list-like, e.g., SP.POP.TOTL\n",
      "    \n",
      "        economy:            an economy identifier or list-like, e.g., 'BRA' or ['USA', 'CAN', 'MEX']\n",
      "    \n",
      "        time:               a time identifier or list-like, e.g., 'YR2015' or range(2010,2020).\n",
      "                            Both element keys and values are acceptable\n",
      "    \n",
      "        index:              name or list of dimensions for the DataFrame's index, e.g., 'economy'. If None then the function\n",
      "                            will define the index based on your request. Note: to get a dataframe with no index\n",
      "                            (i.e., 0-based integers) call `reset_index()` with on the return value of this function.\n",
      "    \n",
      "        columns:            name of the dimension for the DataFrame's columns, e.g., 'series'. If None then the function\n",
      "                            will define columns based on your request.\n",
      "    \n",
      "        mrv:                return only the specified number of most recent values (same time period for all economies)\n",
      "    \n",
      "        mrnev:              return only the specified number of non-empty most recent values (time period varies)\n",
      "    \n",
      "        skipBlanks:         skip empty observations\n",
      "    \n",
      "        labels:             include the dimension name for rows\n",
      "    \n",
      "        skipAggs:           skip aggregates\n",
      "    \n",
      "        numericTimeKeys:    store the time object by value (e.g., 2014) instead of key ('YR2014') if value is numeric\n",
      "    \n",
      "        timeColumns:        add extra columns to show the time dimension for each series/economy\n",
      "                            If 'auto' then the function will guess based on other parameters\n",
      "    \n",
      "        params:             extra query parameters to pass to the API\n",
      "    \n",
      "        dimensions:         extra dimensions, database specific (e.g., version)\n",
      "        \n",
      "    Returns:\n",
      "        a pandas DataFrame\n",
      "    \n",
      "    Examples:\n",
      "        # 5 years of population data (with economy names)\n",
      "        wbgapi.data.DataFrame('SP.POP.TOTL, time=range(2010,2020),labels=True)\n",
      "    \n",
      "        # Most recent poverty and income data for LAC\n",
      "        wbgapi.data.DataFrame(['SI.POV.NAHC', 'NY.GDP.PCAP.CD'], economy=wb.region.members('LAC'),mrnev=1,timeColumns=True)\n",
      "    \n",
      "        # Fetch most recent CO2 emissions for each country and merge its income group\n",
      "        wbgapi.data.DataFrame('EN.ATM.CO2E.PC',mrnev=1).join(wbgapi.economy.DataFrame()['incomeLevel'])\n",
      "    \n",
      "        # Top 10 emitters per capita\n",
      "        wbgapi.data.DataFrame('EN.ATM.CO2E.PC',mrnev=1,labels=True).sort_values('EN.ATM.CO2E.PC',ascending=False).head(10)\n",
      "    \n",
      "    Notes:\n",
      "        timeColumns currently defaults to False so that the default column composition is consistent. This may change to 'auto'\n",
      "        at some point, so that mrv behavior is more intuitive for data discovery\n",
      "\n"
     ]
    }
   ],
   "source": [
    "help(wb.data.DataFrame)"
   ]
  },
  {
   "cell_type": "code",
   "execution_count": 25,
   "metadata": {},
   "outputs": [
    {
     "data": {
      "text/html": [
       "<div class=\"wbgapi\"><table>\n",
       "<thead>\n",
       "<tr><th>id               </th><th>value                                                                                                                                       </th></tr>\n",
       "</thead>\n",
       "<tbody>\n",
       "<tr><td>SG.DMK.ALLD.FN.ZS</td><td>Women participating in the three decisions (own health care, major household purchases, and visiting family) (% of women age 15-49)         </td></tr>\n",
       "<tr><td>SG.DMK.SRCR.FN.ZS</td><td>Women making their own informed decisions regarding sexual relations, contraceptive use and reproductive health care  (% of women age 15-49)</td></tr>\n",
       "<tr><td>SG.GEN.PARL.ZS   </td><td>Proportion of seats held by women in national parliaments (%)                                                                               </td></tr>\n",
       "<tr><td>SG.LAW.INDX      </td><td>Women Business and the Law Index Score (scale 1-100)                                                                                        </td></tr>\n",
       "<tr><td>SG.VAW.1549.ZS   </td><td>Proportion of women subjected to physical and/or sexual violence in the last 12 months (% of women age 15-49)                               </td></tr>\n",
       "<tr><td>SG.VAW.ARGU.ZS   </td><td>Women who believe a husband is justified in beating his wife when she argues with him (%)                                                   </td></tr>\n",
       "<tr><td>SG.VAW.BURN.ZS   </td><td>Women who believe a husband is justified in beating his wife when she burns the food (%)                                                    </td></tr>\n",
       "<tr><td>SG.VAW.GOES.ZS   </td><td>Women who believe a husband is justified in beating his wife when she goes out without telling him (%)                                      </td></tr>\n",
       "<tr><td>SG.VAW.NEGL.ZS   </td><td>Women who believe a husband is justified in beating his wife when she neglects the children (%)                                             </td></tr>\n",
       "<tr><td>SG.VAW.REAS.ZS   </td><td>Women who believe a husband is justified in beating his wife (any of five reasons) (%)                                                      </td></tr>\n",
       "<tr><td>SG.VAW.REFU.ZS   </td><td>Women who believe a husband is justified in beating his wife when she refuses sex with him (%)                                              </td></tr>\n",
       "<tr><td>SH.ANM.ALLW.ZS   </td><td>Prevalence of anemia among women of reproductive age (% of women ages 15-49)                                                                </td></tr>\n",
       "<tr><td>SH.ANM.NPRG.ZS   </td><td>Prevalence of anemia among non-pregnant women (% of women ages 15-49)                                                                       </td></tr>\n",
       "<tr><td>SH.DYN.AIDS.FE.ZS</td><td>Women&#x27;s share of population ages 15+ living with HIV (%)                                                                                    </td></tr>\n",
       "<tr><td>SH.PRG.ANEM      </td><td>Prevalence of anemia among pregnant women (%)                                                                                               </td></tr>\n",
       "<tr><td>SH.STA.ANVC.ZS   </td><td>Pregnant women receiving prenatal care (%)                                                                                                  </td></tr>\n",
       "<tr><td>SP.M15.2024.FE.ZS</td><td>Women who were first married by age 15 (% of women ages 20-24)                                                                              </td></tr>\n",
       "<tr><td>SP.M18.2024.FE.ZS</td><td>Women who were first married by age 18 (% of women ages 20-24)                                                                              </td></tr>\n",
       "<tr><td>                 </td><td>18 elements                                                                                                                                 </td></tr>\n",
       "</tbody>\n",
       "</table></div>"
      ],
      "text/plain": [
       "id                 value\n",
       "-----------------  --------------------------------------------------------------------------------------------------------------------------------------------\n",
       "SG.DMK.ALLD.FN.ZS  Women participating in the three decisions (own health care, major household purchases, and visiting family) (% of women age 15-49)\n",
       "SG.DMK.SRCR.FN.ZS  Women making their own informed decisions regarding sexual relations, contraceptive use and reproductive health care  (% of women age 15-49)\n",
       "SG.GEN.PARL.ZS     Proportion of seats held by women in national parliaments (%)\n",
       "SG.LAW.INDX        Women Business and the Law Index Score (scale 1-100)\n",
       "SG.VAW.1549.ZS     Proportion of women subjected to physical and/or sexual violence in the last 12 months (% of women age 15-49)\n",
       "SG.VAW.ARGU.ZS     Women who believe a husband is justified in beating his wife when she argues with him (%)\n",
       "SG.VAW.BURN.ZS     Women who believe a husband is justified in beating his wife when she burns the food (%)\n",
       "SG.VAW.GOES.ZS     Women who believe a husband is justified in beating his wife when she goes out without telling him (%)\n",
       "SG.VAW.NEGL.ZS     Women who believe a husband is justified in beating his wife when she neglects the children (%)\n",
       "SG.VAW.REAS.ZS     Women who believe a husband is justified in beating his wife (any of five reasons) (%)\n",
       "SG.VAW.REFU.ZS     Women who believe a husband is justified in beating his wife when she refuses sex with him (%)\n",
       "SH.ANM.ALLW.ZS     Prevalence of anemia among women of reproductive age (% of women ages 15-49)\n",
       "SH.ANM.NPRG.ZS     Prevalence of anemia among non-pregnant women (% of women ages 15-49)\n",
       "SH.DYN.AIDS.FE.ZS  Women's share of population ages 15+ living with HIV (%)\n",
       "SH.PRG.ANEM        Prevalence of anemia among pregnant women (%)\n",
       "SH.STA.ANVC.ZS     Pregnant women receiving prenatal care (%)\n",
       "SP.M15.2024.FE.ZS  Women who were first married by age 15 (% of women ages 20-24)\n",
       "SP.M18.2024.FE.ZS  Women who were first married by age 18 (% of women ages 20-24)\n",
       "                   18 elements"
      ]
     },
     "execution_count": 25,
     "metadata": {},
     "output_type": "execute_result"
    }
   ],
   "source": [
    "wb.series.info(q='women')"
   ]
  },
  {
   "cell_type": "code",
   "execution_count": 30,
   "metadata": {},
   "outputs": [
    {
     "data": {
      "text/html": [
       "<div class=\"wbgapi\"><table>\n",
       "<thead>\n",
       "<tr><th>id            </th><th>value                                              </th></tr>\n",
       "</thead>\n",
       "<tbody>\n",
       "<tr><td>SH.STA.DIAB.ZS</td><td>Diabetes prevalence (% of population ages 20 to 79)</td></tr>\n",
       "<tr><td>              </td><td>1 elements                                         </td></tr>\n",
       "</tbody>\n",
       "</table></div>"
      ],
      "text/plain": [
       "id              value\n",
       "--------------  ---------------------------------------------------\n",
       "SH.STA.DIAB.ZS  Diabetes prevalence (% of population ages 20 to 79)\n",
       "                1 elements"
      ]
     },
     "execution_count": 30,
     "metadata": {},
     "output_type": "execute_result"
    }
   ],
   "source": [
    "wb.series.info(q='!diabetes prevalence')"
   ]
  },
  {
   "cell_type": "code",
   "execution_count": 33,
   "metadata": {},
   "outputs": [],
   "source": [
    "diabetes_wb = wb.data.DataFrame(['SH.STA.DIAB.ZS'])"
   ]
  },
  {
   "cell_type": "code",
   "execution_count": 35,
   "metadata": {},
   "outputs": [
    {
     "data": {
      "text/html": [
       "<div>\n",
       "<style scoped>\n",
       "    .dataframe tbody tr th:only-of-type {\n",
       "        vertical-align: middle;\n",
       "    }\n",
       "\n",
       "    .dataframe tbody tr th {\n",
       "        vertical-align: top;\n",
       "    }\n",
       "\n",
       "    .dataframe thead th {\n",
       "        text-align: right;\n",
       "    }\n",
       "</style>\n",
       "<table border=\"1\" class=\"dataframe\">\n",
       "  <thead>\n",
       "    <tr style=\"text-align: right;\">\n",
       "      <th></th>\n",
       "      <th>YR1960</th>\n",
       "      <th>YR1961</th>\n",
       "      <th>YR1962</th>\n",
       "      <th>YR1963</th>\n",
       "      <th>YR1964</th>\n",
       "      <th>YR1965</th>\n",
       "      <th>YR1966</th>\n",
       "      <th>YR1967</th>\n",
       "      <th>YR1968</th>\n",
       "      <th>YR1969</th>\n",
       "      <th>...</th>\n",
       "      <th>YR2011</th>\n",
       "      <th>YR2012</th>\n",
       "      <th>YR2013</th>\n",
       "      <th>YR2014</th>\n",
       "      <th>YR2015</th>\n",
       "      <th>YR2016</th>\n",
       "      <th>YR2017</th>\n",
       "      <th>YR2018</th>\n",
       "      <th>YR2019</th>\n",
       "      <th>YR2020</th>\n",
       "    </tr>\n",
       "    <tr>\n",
       "      <th>economy</th>\n",
       "      <th></th>\n",
       "      <th></th>\n",
       "      <th></th>\n",
       "      <th></th>\n",
       "      <th></th>\n",
       "      <th></th>\n",
       "      <th></th>\n",
       "      <th></th>\n",
       "      <th></th>\n",
       "      <th></th>\n",
       "      <th></th>\n",
       "      <th></th>\n",
       "      <th></th>\n",
       "      <th></th>\n",
       "      <th></th>\n",
       "      <th></th>\n",
       "      <th></th>\n",
       "      <th></th>\n",
       "      <th></th>\n",
       "      <th></th>\n",
       "      <th></th>\n",
       "    </tr>\n",
       "  </thead>\n",
       "  <tbody>\n",
       "    <tr>\n",
       "      <th>ABW</th>\n",
       "      <td>NaN</td>\n",
       "      <td>NaN</td>\n",
       "      <td>NaN</td>\n",
       "      <td>NaN</td>\n",
       "      <td>NaN</td>\n",
       "      <td>NaN</td>\n",
       "      <td>NaN</td>\n",
       "      <td>NaN</td>\n",
       "      <td>NaN</td>\n",
       "      <td>NaN</td>\n",
       "      <td>...</td>\n",
       "      <td>NaN</td>\n",
       "      <td>NaN</td>\n",
       "      <td>NaN</td>\n",
       "      <td>NaN</td>\n",
       "      <td>NaN</td>\n",
       "      <td>NaN</td>\n",
       "      <td>NaN</td>\n",
       "      <td>NaN</td>\n",
       "      <td>11.600000</td>\n",
       "      <td>NaN</td>\n",
       "    </tr>\n",
       "    <tr>\n",
       "      <th>AFE</th>\n",
       "      <td>NaN</td>\n",
       "      <td>NaN</td>\n",
       "      <td>NaN</td>\n",
       "      <td>NaN</td>\n",
       "      <td>NaN</td>\n",
       "      <td>NaN</td>\n",
       "      <td>NaN</td>\n",
       "      <td>NaN</td>\n",
       "      <td>NaN</td>\n",
       "      <td>NaN</td>\n",
       "      <td>...</td>\n",
       "      <td>NaN</td>\n",
       "      <td>NaN</td>\n",
       "      <td>NaN</td>\n",
       "      <td>NaN</td>\n",
       "      <td>NaN</td>\n",
       "      <td>NaN</td>\n",
       "      <td>NaN</td>\n",
       "      <td>NaN</td>\n",
       "      <td>6.648452</td>\n",
       "      <td>NaN</td>\n",
       "    </tr>\n",
       "    <tr>\n",
       "      <th>AFG</th>\n",
       "      <td>NaN</td>\n",
       "      <td>NaN</td>\n",
       "      <td>NaN</td>\n",
       "      <td>NaN</td>\n",
       "      <td>NaN</td>\n",
       "      <td>NaN</td>\n",
       "      <td>NaN</td>\n",
       "      <td>NaN</td>\n",
       "      <td>NaN</td>\n",
       "      <td>NaN</td>\n",
       "      <td>...</td>\n",
       "      <td>NaN</td>\n",
       "      <td>NaN</td>\n",
       "      <td>NaN</td>\n",
       "      <td>NaN</td>\n",
       "      <td>NaN</td>\n",
       "      <td>NaN</td>\n",
       "      <td>NaN</td>\n",
       "      <td>NaN</td>\n",
       "      <td>9.200000</td>\n",
       "      <td>NaN</td>\n",
       "    </tr>\n",
       "    <tr>\n",
       "      <th>AFW</th>\n",
       "      <td>NaN</td>\n",
       "      <td>NaN</td>\n",
       "      <td>NaN</td>\n",
       "      <td>NaN</td>\n",
       "      <td>NaN</td>\n",
       "      <td>NaN</td>\n",
       "      <td>NaN</td>\n",
       "      <td>NaN</td>\n",
       "      <td>NaN</td>\n",
       "      <td>NaN</td>\n",
       "      <td>...</td>\n",
       "      <td>NaN</td>\n",
       "      <td>NaN</td>\n",
       "      <td>NaN</td>\n",
       "      <td>NaN</td>\n",
       "      <td>NaN</td>\n",
       "      <td>NaN</td>\n",
       "      <td>NaN</td>\n",
       "      <td>NaN</td>\n",
       "      <td>3.395120</td>\n",
       "      <td>NaN</td>\n",
       "    </tr>\n",
       "    <tr>\n",
       "      <th>AGO</th>\n",
       "      <td>NaN</td>\n",
       "      <td>NaN</td>\n",
       "      <td>NaN</td>\n",
       "      <td>NaN</td>\n",
       "      <td>NaN</td>\n",
       "      <td>NaN</td>\n",
       "      <td>NaN</td>\n",
       "      <td>NaN</td>\n",
       "      <td>NaN</td>\n",
       "      <td>NaN</td>\n",
       "      <td>...</td>\n",
       "      <td>NaN</td>\n",
       "      <td>NaN</td>\n",
       "      <td>NaN</td>\n",
       "      <td>NaN</td>\n",
       "      <td>NaN</td>\n",
       "      <td>NaN</td>\n",
       "      <td>NaN</td>\n",
       "      <td>NaN</td>\n",
       "      <td>4.500000</td>\n",
       "      <td>NaN</td>\n",
       "    </tr>\n",
       "  </tbody>\n",
       "</table>\n",
       "<p>5 rows × 61 columns</p>\n",
       "</div>"
      ],
      "text/plain": [
       "         YR1960  YR1961  YR1962  YR1963  YR1964  YR1965  YR1966  YR1967  \\\n",
       "economy                                                                   \n",
       "ABW         NaN     NaN     NaN     NaN     NaN     NaN     NaN     NaN   \n",
       "AFE         NaN     NaN     NaN     NaN     NaN     NaN     NaN     NaN   \n",
       "AFG         NaN     NaN     NaN     NaN     NaN     NaN     NaN     NaN   \n",
       "AFW         NaN     NaN     NaN     NaN     NaN     NaN     NaN     NaN   \n",
       "AGO         NaN     NaN     NaN     NaN     NaN     NaN     NaN     NaN   \n",
       "\n",
       "         YR1968  YR1969  ...  YR2011  YR2012  YR2013  YR2014  YR2015  YR2016  \\\n",
       "economy                  ...                                                   \n",
       "ABW         NaN     NaN  ...     NaN     NaN     NaN     NaN     NaN     NaN   \n",
       "AFE         NaN     NaN  ...     NaN     NaN     NaN     NaN     NaN     NaN   \n",
       "AFG         NaN     NaN  ...     NaN     NaN     NaN     NaN     NaN     NaN   \n",
       "AFW         NaN     NaN  ...     NaN     NaN     NaN     NaN     NaN     NaN   \n",
       "AGO         NaN     NaN  ...     NaN     NaN     NaN     NaN     NaN     NaN   \n",
       "\n",
       "         YR2017  YR2018     YR2019  YR2020  \n",
       "economy                                     \n",
       "ABW         NaN     NaN  11.600000     NaN  \n",
       "AFE         NaN     NaN   6.648452     NaN  \n",
       "AFG         NaN     NaN   9.200000     NaN  \n",
       "AFW         NaN     NaN   3.395120     NaN  \n",
       "AGO         NaN     NaN   4.500000     NaN  \n",
       "\n",
       "[5 rows x 61 columns]"
      ]
     },
     "execution_count": 35,
     "metadata": {},
     "output_type": "execute_result"
    }
   ],
   "source": [
    "diabetes_wb.head()"
   ]
  },
  {
   "cell_type": "code",
   "execution_count": 50,
   "metadata": {},
   "outputs": [],
   "source": [
    "indexes = pd.DataFrame(diabetes_wb.index.values)[0]"
   ]
  },
  {
   "cell_type": "code",
   "execution_count": 51,
   "metadata": {},
   "outputs": [
    {
     "data": {
      "text/plain": [
       "array(['ABW', 'AFE', 'AFG', 'AFW', 'AGO', 'ALB', 'AND', 'ARB', 'ARE',\n",
       "       'ARG', 'ARM', 'ASM', 'ATG', 'AUS', 'AUT', 'AZE', 'BDI', 'BEL',\n",
       "       'BEN', 'BFA', 'BGD', 'BGR', 'BHR', 'BHS', 'BIH', 'BLR', 'BLZ',\n",
       "       'BMU', 'BOL', 'BRA', 'BRB', 'BRN', 'BTN', 'BWA', 'CAF', 'CAN',\n",
       "       'CEB', 'CHE', 'CHI', 'CHL', 'CHN', 'CIV', 'CMR', 'COD', 'COG',\n",
       "       'COL', 'COM', 'CPV', 'CRI', 'CSS', 'CUB', 'CUW', 'CYM', 'CYP',\n",
       "       'CZE', 'DEU', 'DJI', 'DMA', 'DNK', 'DOM', 'DZA', 'EAP', 'EAR',\n",
       "       'EAS', 'ECA', 'ECS', 'ECU', 'EGY', 'EMU', 'ERI', 'ESP', 'EST',\n",
       "       'ETH', 'EUU', 'FCS', 'FIN', 'FJI', 'FRA', 'FRO', 'FSM', 'GAB',\n",
       "       'GBR', 'GEO', 'GHA', 'GIB', 'GIN', 'GMB', 'GNB', 'GNQ', 'GRC',\n",
       "       'GRD', 'GRL', 'GTM', 'GUM', 'GUY', 'HIC', 'HKG', 'HND', 'HPC',\n",
       "       'HRV', 'HTI', 'HUN', 'IBD', 'IBT', 'IDA', 'IDB', 'IDN', 'IDX',\n",
       "       'IMN', 'IND', 'INX', 'IRL', 'IRN', 'IRQ', 'ISL', 'ISR', 'ITA',\n",
       "       'JAM', 'JOR', 'JPN', 'KAZ', 'KEN', 'KGZ', 'KHM', 'KIR', 'KNA',\n",
       "       'KOR', 'KWT', 'LAC', 'LAO', 'LBN', 'LBR', 'LBY', 'LCA', 'LCN',\n",
       "       'LDC', 'LIC', 'LIE', 'LKA', 'LMC', 'LMY', 'LSO', 'LTE', 'LTU',\n",
       "       'LUX', 'LVA', 'MAC', 'MAF', 'MAR', 'MCO', 'MDA', 'MDG', 'MDV',\n",
       "       'MEA', 'MEX', 'MHL', 'MIC', 'MKD', 'MLI', 'MLT', 'MMR', 'MNA',\n",
       "       'MNE', 'MNG', 'MNP', 'MOZ', 'MRT', 'MUS', 'MWI', 'MYS', 'NAC',\n",
       "       'NAM', 'NCL', 'NER', 'NGA', 'NIC', 'NLD', 'NOR', 'NPL', 'NRU',\n",
       "       'NZL', 'OED', 'OMN', 'OSS', 'PAK', 'PAN', 'PER', 'PHL', 'PLW',\n",
       "       'PNG', 'POL', 'PRE', 'PRI', 'PRK', 'PRT', 'PRY', 'PSE', 'PSS',\n",
       "       'PST', 'PYF', 'QAT', 'ROU', 'RUS', 'RWA', 'SAS', 'SAU', 'SDN',\n",
       "       'SEN', 'SGP', 'SLB', 'SLE', 'SLV', 'SMR', 'SOM', 'SRB', 'SSA',\n",
       "       'SSD', 'SSF', 'SST', 'STP', 'SUR', 'SVK', 'SVN', 'SWE', 'SWZ',\n",
       "       'SXM', 'SYC', 'SYR', 'TCA', 'TCD', 'TEA', 'TEC', 'TGO', 'THA',\n",
       "       'TJK', 'TKM', 'TLA', 'TLS', 'TMN', 'TON', 'TSA', 'TSS', 'TTO',\n",
       "       'TUN', 'TUR', 'TUV', 'TZA', 'UGA', 'UKR', 'UMC', 'URY', 'USA',\n",
       "       'UZB', 'VCT', 'VEN', 'VGB', 'VIR', 'VNM', 'VUT', 'WLD', 'WSM',\n",
       "       'XKX', 'YEM', 'ZAF', 'ZMB', 'ZWE'], dtype=object)"
      ]
     },
     "execution_count": 51,
     "metadata": {},
     "output_type": "execute_result"
    }
   ],
   "source": [
    "indexes.unique()"
   ]
  },
  {
   "cell_type": "code",
   "execution_count": null,
   "metadata": {},
   "outputs": [],
   "source": []
  }
 ],
 "metadata": {
  "kernelspec": {
   "display_name": "Python 3",
   "language": "python",
   "name": "python3"
  },
  "language_info": {
   "codemirror_mode": {
    "name": "ipython",
    "version": 3
   },
   "file_extension": ".py",
   "mimetype": "text/x-python",
   "name": "python",
   "nbconvert_exporter": "python",
   "pygments_lexer": "ipython3",
   "version": "3.8.5"
  }
 },
 "nbformat": 4,
 "nbformat_minor": 4
}
