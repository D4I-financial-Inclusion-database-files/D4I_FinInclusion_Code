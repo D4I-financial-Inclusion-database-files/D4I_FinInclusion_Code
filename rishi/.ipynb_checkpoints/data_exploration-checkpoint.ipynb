{
 "cells": [
  {
   "cell_type": "markdown",
   "metadata": {
    "id": "iwBFxW9bQmrG"
   },
   "source": [
    "### merging datasets version 2 \n",
    "\n",
    "<p>\n",
    "    sorry this is late, v1 by rishi, im gonna try to go step by step, later im gonna outline what we need to do remaining\n",
    "</p>"
   ]
  },
  {
   "cell_type": "code",
   "execution_count": 1,
   "metadata": {
    "id": "KPKu0ibBQmrJ"
   },
   "outputs": [],
   "source": [
    "import numpy as np\n",
    "import pandas as pd\n",
    "import datetime\n",
    "#`from dataprep.clean import clean_country"
   ]
  },
  {
   "cell_type": "code",
   "execution_count": 5,
   "metadata": {
    "colab": {
     "base_uri": "https://localhost:8080/",
     "height": 172
    },
    "executionInfo": {
     "elapsed": 111,
     "status": "ok",
     "timestamp": 1626770500828,
     "user": {
      "displayName": "Hamza Ali",
      "photoUrl": "",
      "userId": "17862348537277762667"
     },
     "user_tz": 420
    },
    "id": "Yc-B_oVRQmrK",
    "outputId": "77c051c4-ffe9-4aec-de86-77fa67057f5d"
   },
   "outputs": [
    {
     "data": {
      "text/html": [
       "<div>\n",
       "<style scoped>\n",
       "    .dataframe tbody tr th:only-of-type {\n",
       "        vertical-align: middle;\n",
       "    }\n",
       "\n",
       "    .dataframe tbody tr th {\n",
       "        vertical-align: top;\n",
       "    }\n",
       "\n",
       "    .dataframe thead th {\n",
       "        text-align: right;\n",
       "    }\n",
       "</style>\n",
       "<table border=\"1\" class=\"dataframe\">\n",
       "  <thead>\n",
       "    <tr style=\"text-align: right;\">\n",
       "      <th></th>\n",
       "      <th>Country</th>\n",
       "      <th>Alpha-2 code</th>\n",
       "      <th>Alpha-3 code</th>\n",
       "      <th>Numeric code</th>\n",
       "      <th>Latitude (average)</th>\n",
       "      <th>Longitude (average)</th>\n",
       "    </tr>\n",
       "  </thead>\n",
       "  <tbody>\n",
       "    <tr>\n",
       "      <th>count</th>\n",
       "      <td>256</td>\n",
       "      <td>256</td>\n",
       "      <td>256</td>\n",
       "      <td>256</td>\n",
       "      <td>256</td>\n",
       "      <td>256</td>\n",
       "    </tr>\n",
       "    <tr>\n",
       "      <th>unique</th>\n",
       "      <td>256</td>\n",
       "      <td>244</td>\n",
       "      <td>244</td>\n",
       "      <td>244</td>\n",
       "      <td>176</td>\n",
       "      <td>196</td>\n",
       "    </tr>\n",
       "    <tr>\n",
       "      <th>top</th>\n",
       "      <td>Mali</td>\n",
       "      <td>\"VC\"</td>\n",
       "      <td>\"VCT\"</td>\n",
       "      <td>\"670\"</td>\n",
       "      <td>\"8\"</td>\n",
       "      <td>\"30\"</td>\n",
       "    </tr>\n",
       "    <tr>\n",
       "      <th>freq</th>\n",
       "      <td>1</td>\n",
       "      <td>3</td>\n",
       "      <td>3</td>\n",
       "      <td>3</td>\n",
       "      <td>8</td>\n",
       "      <td>7</td>\n",
       "    </tr>\n",
       "  </tbody>\n",
       "</table>\n",
       "</div>"
      ],
      "text/plain": [
       "       Country Alpha-2 code Alpha-3 code Numeric code Latitude (average)  \\\n",
       "count      256          256          256          256                256   \n",
       "unique     256          244          244          244                176   \n",
       "top       Mali         \"VC\"        \"VCT\"        \"670\"                \"8\"   \n",
       "freq         1            3            3            3                  8   \n",
       "\n",
       "       Longitude (average)  \n",
       "count                  256  \n",
       "unique                 196  \n",
       "top                   \"30\"  \n",
       "freq                     7  "
      ]
     },
     "metadata": {},
     "output_type": "display_data"
    },
    {
     "data": {
      "text/html": [
       "<div>\n",
       "<style scoped>\n",
       "    .dataframe tbody tr th:only-of-type {\n",
       "        vertical-align: middle;\n",
       "    }\n",
       "\n",
       "    .dataframe tbody tr th {\n",
       "        vertical-align: top;\n",
       "    }\n",
       "\n",
       "    .dataframe thead th {\n",
       "        text-align: right;\n",
       "    }\n",
       "</style>\n",
       "<table border=\"1\" class=\"dataframe\">\n",
       "  <thead>\n",
       "    <tr style=\"text-align: right;\">\n",
       "      <th></th>\n",
       "      <th>Country</th>\n",
       "      <th>Alpha-2 code</th>\n",
       "      <th>Alpha-3 code</th>\n",
       "      <th>Numeric code</th>\n",
       "      <th>Latitude (average)</th>\n",
       "      <th>Longitude (average)</th>\n",
       "    </tr>\n",
       "  </thead>\n",
       "  <tbody>\n",
       "    <tr>\n",
       "      <th>0</th>\n",
       "      <td>Afghanistan</td>\n",
       "      <td>\"AF\"</td>\n",
       "      <td>\"AFG\"</td>\n",
       "      <td>\"4\"</td>\n",
       "      <td>\"33\"</td>\n",
       "      <td>\"65\"</td>\n",
       "    </tr>\n",
       "    <tr>\n",
       "      <th>1</th>\n",
       "      <td>Albania</td>\n",
       "      <td>\"AL\"</td>\n",
       "      <td>\"ALB\"</td>\n",
       "      <td>\"8\"</td>\n",
       "      <td>\"41\"</td>\n",
       "      <td>\"20\"</td>\n",
       "    </tr>\n",
       "    <tr>\n",
       "      <th>2</th>\n",
       "      <td>Algeria</td>\n",
       "      <td>\"DZ\"</td>\n",
       "      <td>\"DZA\"</td>\n",
       "      <td>\"12\"</td>\n",
       "      <td>\"28\"</td>\n",
       "      <td>\"3\"</td>\n",
       "    </tr>\n",
       "    <tr>\n",
       "      <th>3</th>\n",
       "      <td>American Samoa</td>\n",
       "      <td>\"AS\"</td>\n",
       "      <td>\"ASM\"</td>\n",
       "      <td>\"16\"</td>\n",
       "      <td>\"-14.3333\"</td>\n",
       "      <td>\"-170\"</td>\n",
       "    </tr>\n",
       "    <tr>\n",
       "      <th>4</th>\n",
       "      <td>Andorra</td>\n",
       "      <td>\"AD\"</td>\n",
       "      <td>\"AND\"</td>\n",
       "      <td>\"20\"</td>\n",
       "      <td>\"42.5\"</td>\n",
       "      <td>\"1.6\"</td>\n",
       "    </tr>\n",
       "  </tbody>\n",
       "</table>\n",
       "</div>"
      ],
      "text/plain": [
       "          Country Alpha-2 code Alpha-3 code Numeric code Latitude (average)  \\\n",
       "0     Afghanistan         \"AF\"        \"AFG\"          \"4\"               \"33\"   \n",
       "1         Albania         \"AL\"        \"ALB\"          \"8\"               \"41\"   \n",
       "2         Algeria         \"DZ\"        \"DZA\"         \"12\"               \"28\"   \n",
       "3  American Samoa         \"AS\"        \"ASM\"         \"16\"         \"-14.3333\"   \n",
       "4         Andorra         \"AD\"        \"AND\"         \"20\"             \"42.5\"   \n",
       "\n",
       "  Longitude (average)  \n",
       "0                \"65\"  \n",
       "1                \"20\"  \n",
       "2                 \"3\"  \n",
       "3              \"-170\"  \n",
       "4               \"1.6\"  "
      ]
     },
     "metadata": {},
     "output_type": "display_data"
    }
   ],
   "source": [
    "main_link = 'https://raw.githubusercontent.com/D4I-financial-Inclusion-database-files/D4I_FinInclusion_Data/main/'\n",
    "country_codes = pd.read_csv(main_link+ 'countries_codes_and_coordinates_worldmapplot.csv')\n",
    "display(country_codes.describe(), country_codes.head())\n"
   ]
  },
  {
   "cell_type": "markdown",
   "metadata": {
    "id": "PhD59DP0UOPP"
   },
   "source": [
    "One Variable (Wide):"
   ]
  },
  {
   "cell_type": "code",
   "execution_count": null,
   "metadata": {
    "id": "VQnhtfpcUi3r"
   },
   "outputs": [],
   "source": [
    "# BCG immunization rates\n",
    "bcg_who = pd.read_csv('https://raw.githubusercontent.com/D4I-financial-Inclusion-database-files/D4I_FinInclusion_Data/main/BMJ_Data_Country_Article/bcg_WHO.csv')"
   ]
  },
  {
   "cell_type": "markdown",
   "metadata": {
    "id": "0i_k01YhVGUn"
   },
   "source": [
    "One Variable (Long):"
   ]
  },
  {
   "cell_type": "code",
   "execution_count": null,
   "metadata": {
    "id": "lO_OIMrHQmrJ"
   },
   "outputs": [],
   "source": [
    "#UV rays (from 2004?)\n",
    "uv_who = pd.read_csv('https://raw.githubusercontent.com/D4I-financial-Inclusion-database-files/D4I_FinInclusion_Data/main/BMJ_Data_Country_Article/uv_WHO.csv')\n",
    "\n",
    "#Russian Rainfall \n",
    "#NEEDS SOURCE\n",
    "rus_rain = pd.read_csv('https://raw.githubusercontent.com/D4I-financial-Inclusion-database-files/D4I_FinInclusion_Data/main/BMJ_Data_Country_Article/rain_RUS_1991_2020.csv')\n",
    "\n",
    "#Russian Temp\n",
    "#NEEDS SOURCE\n",
    "rus_temp = pd.read_csv('https://raw.githubusercontent.com/D4I-financial-Inclusion-database-files/D4I_FinInclusion_Data/main/BMJ_Data_Country_Article/temp_RUS_1991_2020.csv')\n",
    "\n",
    "#Diabetes Prevelance (World Bank)\n",
    "diabetes_wb = pd.read_csv('https://raw.githubusercontent.com/D4I-financial-Inclusion-database-files/D4I_FinInclusion_Data/main/BMJ_Data_Country_Article/diabetes_WB.csv')\n",
    "# later datasets also include this data"
   ]
  },
  {
   "cell_type": "markdown",
   "metadata": {
    "id": "TFzpz3G9WuxM"
   },
   "source": [
    "Multiple Variables (Wide):"
   ]
  },
  {
   "cell_type": "code",
   "execution_count": null,
   "metadata": {
    "id": "v3-BaZ0zW0LS"
   },
   "outputs": [],
   "source": []
  },
  {
   "cell_type": "markdown",
   "metadata": {
    "id": "jfnKyiapW0oc"
   },
   "source": [
    "Multiple Vairables (Long):"
   ]
  },
  {
   "cell_type": "code",
   "execution_count": null,
   "metadata": {
    "id": "io-mRim0W49-"
   },
   "outputs": [],
   "source": []
  },
  {
   "cell_type": "markdown",
   "metadata": {
    "id": "RPh3KKWSQmrL"
   },
   "source": [
    "### Editing UV WHO dataset\n",
    "\n",
    "note: 191 countries"
   ]
  },
  {
   "cell_type": "code",
   "execution_count": null,
   "metadata": {
    "colab": {
     "base_uri": "https://localhost:8080/",
     "height": 203
    },
    "executionInfo": {
     "elapsed": 14,
     "status": "ok",
     "timestamp": 1626770501392,
     "user": {
      "displayName": "Hamza Ali",
      "photoUrl": "",
      "userId": "17862348537277762667"
     },
     "user_tz": 420
    },
    "id": "Hq2uVINtQmrM",
    "outputId": "8a1e4dc8-2981-47f5-ae7b-446a76315ff2"
   },
   "outputs": [],
   "source": [
    "uv_who.head()"
   ]
  },
  {
   "cell_type": "markdown",
   "metadata": {
    "id": "G79X-2ADQmrM"
   },
   "source": [
    "- we need to :\n",
    "    - delete the first row\n",
    "    - rename the first column"
   ]
  },
  {
   "cell_type": "code",
   "execution_count": null,
   "metadata": {
    "colab": {
     "base_uri": "https://localhost:8080/",
     "height": 203
    },
    "executionInfo": {
     "elapsed": 100,
     "status": "ok",
     "timestamp": 1626770501480,
     "user": {
      "displayName": "Hamza Ali",
      "photoUrl": "",
      "userId": "17862348537277762667"
     },
     "user_tz": 420
    },
    "id": "eNCbnJLCQmrM",
    "outputId": "aa17e3b9-b6f9-4152-d964-9d0400727e97"
   },
   "outputs": [],
   "source": [
    "uv_who.columns = [\"Country\", \"UV\"]\n",
    "# Ideally we would see what units its measured in and include that in column name\n",
    "\n",
    "uv_who = uv_who.drop(0)\n",
    "uv_who.head()"
   ]
  },
  {
   "cell_type": "code",
   "execution_count": null,
   "metadata": {
    "id": "eSQk3SUfQmrN"
   },
   "outputs": [],
   "source": [
    "uv_who.describe()\n",
    "uv = uv_who"
   ]
  },
  {
   "cell_type": "markdown",
   "metadata": {
    "id": "PNgfCfHmQmrN"
   },
   "source": [
    "- we have 191 countries in the UV dataset"
   ]
  },
  {
   "cell_type": "markdown",
   "metadata": {
    "id": "T7_pgrKVQmrO"
   },
   "source": [
    "### Editing BCG WHO Data\n",
    "note: 156 countries"
   ]
  },
  {
   "cell_type": "code",
   "execution_count": null,
   "metadata": {
    "colab": {
     "base_uri": "https://localhost:8080/",
     "height": 307
    },
    "executionInfo": {
     "elapsed": 10,
     "status": "ok",
     "timestamp": 1626770501586,
     "user": {
      "displayName": "Hamza Ali",
      "photoUrl": "",
      "userId": "17862348537277762667"
     },
     "user_tz": 420
    },
    "id": "SD7pCYpZQmrO",
    "outputId": "c41c76f0-1bbb-4734-b3df-05e6461b5a48"
   },
   "outputs": [],
   "source": [
    "bcg_who.head()"
   ]
  },
  {
   "cell_type": "code",
   "execution_count": null,
   "metadata": {
    "colab": {
     "base_uri": "https://localhost:8080/",
     "height": 399
    },
    "executionInfo": {
     "elapsed": 221,
     "status": "ok",
     "timestamp": 1626770501799,
     "user": {
      "displayName": "Hamza Ali",
      "photoUrl": "",
      "userId": "17862348537277762667"
     },
     "user_tz": 420
    },
    "id": "XqDHwUNZQmrO",
    "outputId": "badc6814-7d1d-47ee-d832-f4b3a8b7f7f6"
   },
   "outputs": [],
   "source": [
    "bcg_who.describe()"
   ]
  },
  {
   "cell_type": "markdown",
   "metadata": {
    "id": "wOpsvkDqQmrO"
   },
   "source": [
    "- change format to:\n",
    "    - Country\n",
    "    - Year\n",
    "    - BCG immunization coverage among 1-year-olds"
   ]
  },
  {
   "cell_type": "code",
   "execution_count": null,
   "metadata": {
    "id": "sDZJW9cKQmrP"
   },
   "outputs": [],
   "source": [
    "def wide_to_long_who(df, variable, value):\n",
    "    new_header = df.iloc[0] #grab the first row for the header\n",
    "    df = df[1:] #take the data less the header row\n",
    "    df.columns = new_header #set the header row as the df header\n",
    "    col_names = df.columns.values.tolist()\n",
    "    return pd.melt(df, id_vars =col_names[0],value_vars = col_names[1:], var_name=variable, value_name=value)"
   ]
  },
  {
   "cell_type": "code",
   "execution_count": null,
   "metadata": {
    "colab": {
     "base_uri": "https://localhost:8080/",
     "height": 417
    },
    "executionInfo": {
     "elapsed": 5,
     "status": "ok",
     "timestamp": 1626770501800,
     "user": {
      "displayName": "Hamza Ali",
      "photoUrl": "",
      "userId": "17862348537277762667"
     },
     "user_tz": 420
    },
    "id": "CPk5sBZjQmrP",
    "outputId": "77aacd1f-10be-4802-cf6e-a20a80205594"
   },
   "outputs": [],
   "source": [
    "bcg = wide_to_long_who(bcg_who,\"Year\", \"BCG immunization coverage among 1-year-olds\")\n",
    "bcg"
   ]
  },
  {
   "cell_type": "code",
   "execution_count": null,
   "metadata": {
    "colab": {
     "base_uri": "https://localhost:8080/",
     "height": 467
    },
    "executionInfo": {
     "elapsed": 229,
     "status": "ok",
     "timestamp": 1626770502025,
     "user": {
      "displayName": "Hamza Ali",
      "photoUrl": "",
      "userId": "17862348537277762667"
     },
     "user_tz": 420
    },
    "id": "SF3jPZjrEgk0",
    "outputId": "239d6156-893b-407a-a543-081807f45872"
   },
   "outputs": [],
   "source": [
    "bcg_mod = clean_country(bcg, 'Country', output_format=\"alpha-3\")\n",
    "bcg_mod"
   ]
  },
  {
   "cell_type": "markdown",
   "metadata": {
    "id": "02jsPuE1QmrP"
   },
   "source": [
    "### Russian Data. - NOT DONE\n",
    "\n",
    "- find source asap and text rishi or make note of it "
   ]
  },
  {
   "cell_type": "code",
   "execution_count": null,
   "metadata": {
    "colab": {
     "base_uri": "https://localhost:8080/",
     "height": 203
    },
    "executionInfo": {
     "elapsed": 12,
     "status": "ok",
     "timestamp": 1626770502140,
     "user": {
      "displayName": "Hamza Ali",
      "photoUrl": "",
      "userId": "17862348537277762667"
     },
     "user_tz": 420
    },
    "id": "4jSXB-6nQmrQ",
    "outputId": "7eaeed40-a6cf-499a-95d1-fb472bde1273"
   },
   "outputs": [],
   "source": [
    "rus_rain.head()"
   ]
  },
  {
   "cell_type": "code",
   "execution_count": null,
   "metadata": {
    "colab": {
     "base_uri": "https://localhost:8080/",
     "height": 203
    },
    "executionInfo": {
     "elapsed": 11,
     "status": "ok",
     "timestamp": 1626770502141,
     "user": {
      "displayName": "Hamza Ali",
      "photoUrl": "",
      "userId": "17862348537277762667"
     },
     "user_tz": 420
    },
    "id": "Vd2aH3WtQmrQ",
    "outputId": "87744b7f-f0a6-48ed-aec2-6dc78b3ffec5"
   },
   "outputs": [],
   "source": [
    "rus_temp.head()"
   ]
  },
  {
   "cell_type": "code",
   "execution_count": null,
   "metadata": {
    "colab": {
     "base_uri": "https://localhost:8080/",
     "height": 295
    },
    "executionInfo": {
     "elapsed": 107,
     "status": "ok",
     "timestamp": 1626770502238,
     "user": {
      "displayName": "Hamza Ali",
      "photoUrl": "",
      "userId": "17862348537277762667"
     },
     "user_tz": 420
    },
    "id": "SmbjpWFLQmrQ",
    "outputId": "fe755c4d-9b7f-4277-b60c-8816efbb5398"
   },
   "outputs": [],
   "source": [
    "rus_rain.describe()"
   ]
  },
  {
   "cell_type": "code",
   "execution_count": null,
   "metadata": {
    "colab": {
     "base_uri": "https://localhost:8080/",
     "height": 295
    },
    "executionInfo": {
     "elapsed": 12,
     "status": "ok",
     "timestamp": 1626770502239,
     "user": {
      "displayName": "Hamza Ali",
      "photoUrl": "",
      "userId": "17862348537277762667"
     },
     "user_tz": 420
    },
    "id": "XImePYjuQmrR",
    "outputId": "015e43b9-e155-483f-a902-d6557889e83f"
   },
   "outputs": [],
   "source": [
    "rus_temp.describe()"
   ]
  },
  {
   "cell_type": "code",
   "execution_count": null,
   "metadata": {
    "id": "KTVEWcUvQmrR"
   },
   "outputs": [],
   "source": [
    "rus_data = pd.merge(rus_rain,rus_temp)"
   ]
  },
  {
   "cell_type": "code",
   "execution_count": null,
   "metadata": {
    "colab": {
     "base_uri": "https://localhost:8080/",
     "height": 417
    },
    "executionInfo": {
     "elapsed": 10,
     "status": "ok",
     "timestamp": 1626770502240,
     "user": {
      "displayName": "Hamza Ali",
      "photoUrl": "",
      "userId": "17862348537277762667"
     },
     "user_tz": 420
    },
    "id": "ygboPMGlQmrR",
    "outputId": "d79009b7-115c-4309-e91e-1de02f4a04b7"
   },
   "outputs": [],
   "source": [
    "rus_data"
   ]
  },
  {
   "cell_type": "code",
   "execution_count": null,
   "metadata": {
    "colab": {
     "base_uri": "https://localhost:8080/"
    },
    "executionInfo": {
     "elapsed": 113,
     "status": "ok",
     "timestamp": 1626770502346,
     "user": {
      "displayName": "Hamza Ali",
      "photoUrl": "",
      "userId": "17862348537277762667"
     },
     "user_tz": 420
    },
    "id": "Bjfy5iHZQmrS",
    "outputId": "01599f3a-7d0d-45d0-ad44-f8cd9445db60"
   },
   "outputs": [],
   "source": [
    "month_name = \"Jan\"\n",
    "datetime_object = datetime.datetime.strptime(month_name, \"%b\")\n",
    "month_number = datetime_object.month\n",
    "print(month_number)"
   ]
  },
  {
   "cell_type": "code",
   "execution_count": null,
   "metadata": {
    "id": "GfuGqH20QmrS"
   },
   "outputs": [],
   "source": [
    "## we can take this oppurtunity to write code to replace instance of month name with a number"
   ]
  },
  {
   "cell_type": "code",
   "execution_count": null,
   "metadata": {
    "id": "Vx_D307-QmrS"
   },
   "outputs": [],
   "source": []
  },
  {
   "cell_type": "markdown",
   "metadata": {
    "id": "qARTGOekXKYQ"
   },
   "source": [
    "## playing with pycountry"
   ]
  },
  {
   "cell_type": "code",
   "execution_count": null,
   "metadata": {
    "id": "PNJovA2fXPIu"
   },
   "outputs": [],
   "source": [
    "import pycountry"
   ]
  },
  {
   "cell_type": "code",
   "execution_count": null,
   "metadata": {
    "id": "9iVaiHAUXqbM"
   },
   "outputs": [],
   "source": []
  },
  {
   "cell_type": "markdown",
   "metadata": {
    "id": "OgoOf8EId7Kk"
   },
   "source": [
    "##to do tn (07/19):\n",
    "\n",
    "hamza (work on function to convert country name to code):\n",
    "- get list of countries in UV data set and BCG data set\n",
    "- cross ref with countries_codes dataset\n",
    "- see what variables are different\n",
    "- play with pycountry module\n",
    "- look at other code online to fill the gaps, for example: https://colab.research.google.com/github/Intelecy/covid-19-research/blob/master/COVID_19_model.ipynb#scrollTo=sa8Q4yq-nvrm\n",
    "\n",
    "\n",
    "rishi:\n",
    "- relational diagrams for each dataset and combine everything\n",
    "- SQL structure\n",
    "\n",
    "both:\n",
    "- continue data cleaning\n",
    "\n",
    "later but something we should do before end of summer:\n",
    "- using apis with SQL\n"
   ]
  },
  {
   "cell_type": "code",
   "execution_count": null,
   "metadata": {
    "colab": {
     "base_uri": "https://localhost:8080/",
     "height": 472
    },
    "executionInfo": {
     "elapsed": 11,
     "status": "ok",
     "timestamp": 1626770502352,
     "user": {
      "displayName": "Hamza Ali",
      "photoUrl": "",
      "userId": "17862348537277762667"
     },
     "user_tz": 420
    },
    "id": "POPxC3l2fiff",
    "outputId": "44d35b28-499b-4e0d-9c76-fb2d5e65ebf2"
   },
   "outputs": [],
   "source": [
    "diabetes_wb.head()"
   ]
  },
  {
   "cell_type": "code",
   "execution_count": null,
   "metadata": {
    "colab": {
     "base_uri": "https://localhost:8080/",
     "height": 239
    },
    "executionInfo": {
     "elapsed": 3,
     "status": "ok",
     "timestamp": 1626770502435,
     "user": {
      "displayName": "Hamza Ali",
      "photoUrl": "",
      "userId": "17862348537277762667"
     },
     "user_tz": 420
    },
    "id": "3hBG914GlYdD",
    "outputId": "02050046-b99c-45ea-96bd-215ed3c217e5"
   },
   "outputs": [],
   "source": [
    "diabetes_wb.describe()"
   ]
  },
  {
   "cell_type": "code",
   "execution_count": null,
   "metadata": {
    "id": "t4napZoKlt1g"
   },
   "outputs": [],
   "source": []
  },
  {
   "cell_type": "code",
   "execution_count": null,
   "metadata": {
    "colab": {
     "base_uri": "https://localhost:8080/",
     "height": 417
    },
    "executionInfo": {
     "elapsed": 11,
     "status": "ok",
     "timestamp": 1626770502551,
     "user": {
      "displayName": "Hamza Ali",
      "photoUrl": "",
      "userId": "17862348537277762667"
     },
     "user_tz": 420
    },
    "id": "Ffhp0iR5jHRu",
    "outputId": "44950356-717a-4f23-d55d-135073f963ec"
   },
   "outputs": [],
   "source": [
    "col_names = diabetes_wb.columns.values.tolist()\n",
    "pd.melt(diabetes_wb, id_vars ='Country Name',value_vars = col_names[4:], var_name=\"Year\", value_name=\"Diabetes\")"
   ]
  },
  {
   "cell_type": "markdown",
   "metadata": {
    "id": "A68WCkF1mu0h"
   },
   "source": [
    "list of unique values in certain column:"
   ]
  },
  {
   "cell_type": "code",
   "execution_count": null,
   "metadata": {
    "colab": {
     "base_uri": "https://localhost:8080/"
    },
    "executionInfo": {
     "elapsed": 10,
     "status": "ok",
     "timestamp": 1626770502551,
     "user": {
      "displayName": "Hamza Ali",
      "photoUrl": "",
      "userId": "17862348537277762667"
     },
     "user_tz": 420
    },
    "id": "d54T-A9nlHCQ",
    "outputId": "7ce6cca1-78e4-4179-b6ea-6af782fb1272"
   },
   "outputs": [],
   "source": [
    "diabetes_wb['Country Name'].unique()"
   ]
  },
  {
   "cell_type": "code",
   "execution_count": null,
   "metadata": {
    "id": "v6JgP6QhnB5L"
   },
   "outputs": [],
   "source": []
  }
 ],
 "metadata": {
  "colab": {
   "collapsed_sections": [],
   "name": "playing_aroundv1.ipynb",
   "provenance": []
  },
  "kernelspec": {
   "display_name": "Python 3",
   "language": "python",
   "name": "python3"
  },
  "language_info": {
   "codemirror_mode": {
    "name": "ipython",
    "version": 3
   },
   "file_extension": ".py",
   "mimetype": "text/x-python",
   "name": "python",
   "nbconvert_exporter": "python",
   "pygments_lexer": "ipython3",
   "version": "3.8.5"
  }
 },
 "nbformat": 4,
 "nbformat_minor": 4
}
